{
  "nbformat": 4,
  "nbformat_minor": 0,
  "metadata": {
    "colab": {
      "name": "Task1_Supervised_ML.ipynb",
      "provenance": [],
      "collapsed_sections": [],
      "toc_visible": true
    },
    "kernelspec": {
      "name": "python3",
      "display_name": "Python 3"
    },
    "language_info": {
      "name": "python"
    }
  },
  "cells": [
    {
      "cell_type": "markdown",
      "metadata": {
        "id": "Bsp_hnFy3Wz6"
      },
      "source": [
        "# **The Sparks Foundation Intership**"
      ]
    },
    {
      "cell_type": "markdown",
      "metadata": {
        "id": "QAw-YBIP30pR"
      },
      "source": [
        "## **Data Science and Business Analyst**"
      ]
    },
    {
      "cell_type": "markdown",
      "metadata": {
        "id": "6Yr4X8QZ37hI"
      },
      "source": [
        "### **Task 1. Supervised ML**"
      ]
    },
    {
      "cell_type": "markdown",
      "metadata": {
        "id": "aAx1ROX54Hhw"
      },
      "source": [
        "#### **Task Name:** \n",
        "##### Predict the Percentage of a student based on the no. of study hours\n",
        "\n",
        "#### **Objective:**\n",
        "##### To predict the percentage of a student if he/she studies for 9.25 hrs/day"
      ]
    },
    {
      "cell_type": "markdown",
      "metadata": {
        "id": "it35gqPQ956A"
      },
      "source": [
        "### **Author :** KRISHNENDU SARKAR"
      ]
    },
    {
      "cell_type": "code",
      "metadata": {
        "colab": {
          "base_uri": "https://localhost:8080/"
        },
        "id": "wW8FSK0p2DD-",
        "outputId": "e2e5c42d-69bb-437a-f44c-b29153221346"
      },
      "source": [
        "# importing libraries to mount gdrive\n",
        "from google.colab import drive\n",
        "drive.mount('/content/gdrive')"
      ],
      "execution_count": 1,
      "outputs": [
        {
          "output_type": "stream",
          "text": [
            "Mounted at /content/gdrive\n"
          ],
          "name": "stdout"
        }
      ]
    },
    {
      "cell_type": "code",
      "metadata": {
        "id": "5UnORry554vC"
      },
      "source": [
        "# importing the required libraries\n",
        "import numpy as np\n",
        "import pandas as pd\n",
        "import seaborn as sns\n",
        "import matplotlib.pyplot as plt\n",
        "\n",
        "import warnings\n",
        "warnings.filterwarnings('ignore')"
      ],
      "execution_count": 2,
      "outputs": []
    },
    {
      "cell_type": "markdown",
      "metadata": {
        "id": "_005AmjL4TqA"
      },
      "source": [
        "### **1. Reading and Understanding Data**"
      ]
    },
    {
      "cell_type": "code",
      "metadata": {
        "id": "FPWb-06M3lUY"
      },
      "source": [
        "# Reading the data\n",
        "df_marks = pd.read_csv('/content/gdrive/MyDrive/Sparks Internship/Task1_Supervised_ML/student_scores - student_scores.csv')"
      ],
      "execution_count": 3,
      "outputs": []
    },
    {
      "cell_type": "code",
      "metadata": {
        "colab": {
          "base_uri": "https://localhost:8080/",
          "height": 824
        },
        "id": "HwHGmF3x42J9",
        "outputId": "a1747497-2139-406c-e547-1f32275f6280"
      },
      "source": [
        "# Checking the data\n",
        "df_marks"
      ],
      "execution_count": 4,
      "outputs": [
        {
          "output_type": "execute_result",
          "data": {
            "text/html": [
              "<div>\n",
              "<style scoped>\n",
              "    .dataframe tbody tr th:only-of-type {\n",
              "        vertical-align: middle;\n",
              "    }\n",
              "\n",
              "    .dataframe tbody tr th {\n",
              "        vertical-align: top;\n",
              "    }\n",
              "\n",
              "    .dataframe thead th {\n",
              "        text-align: right;\n",
              "    }\n",
              "</style>\n",
              "<table border=\"1\" class=\"dataframe\">\n",
              "  <thead>\n",
              "    <tr style=\"text-align: right;\">\n",
              "      <th></th>\n",
              "      <th>Hours</th>\n",
              "      <th>Scores</th>\n",
              "    </tr>\n",
              "  </thead>\n",
              "  <tbody>\n",
              "    <tr>\n",
              "      <th>0</th>\n",
              "      <td>2.5</td>\n",
              "      <td>21</td>\n",
              "    </tr>\n",
              "    <tr>\n",
              "      <th>1</th>\n",
              "      <td>5.1</td>\n",
              "      <td>47</td>\n",
              "    </tr>\n",
              "    <tr>\n",
              "      <th>2</th>\n",
              "      <td>3.2</td>\n",
              "      <td>27</td>\n",
              "    </tr>\n",
              "    <tr>\n",
              "      <th>3</th>\n",
              "      <td>8.5</td>\n",
              "      <td>75</td>\n",
              "    </tr>\n",
              "    <tr>\n",
              "      <th>4</th>\n",
              "      <td>3.5</td>\n",
              "      <td>30</td>\n",
              "    </tr>\n",
              "    <tr>\n",
              "      <th>5</th>\n",
              "      <td>1.5</td>\n",
              "      <td>20</td>\n",
              "    </tr>\n",
              "    <tr>\n",
              "      <th>6</th>\n",
              "      <td>9.2</td>\n",
              "      <td>88</td>\n",
              "    </tr>\n",
              "    <tr>\n",
              "      <th>7</th>\n",
              "      <td>5.5</td>\n",
              "      <td>60</td>\n",
              "    </tr>\n",
              "    <tr>\n",
              "      <th>8</th>\n",
              "      <td>8.3</td>\n",
              "      <td>81</td>\n",
              "    </tr>\n",
              "    <tr>\n",
              "      <th>9</th>\n",
              "      <td>2.7</td>\n",
              "      <td>25</td>\n",
              "    </tr>\n",
              "    <tr>\n",
              "      <th>10</th>\n",
              "      <td>7.7</td>\n",
              "      <td>85</td>\n",
              "    </tr>\n",
              "    <tr>\n",
              "      <th>11</th>\n",
              "      <td>5.9</td>\n",
              "      <td>62</td>\n",
              "    </tr>\n",
              "    <tr>\n",
              "      <th>12</th>\n",
              "      <td>4.5</td>\n",
              "      <td>41</td>\n",
              "    </tr>\n",
              "    <tr>\n",
              "      <th>13</th>\n",
              "      <td>3.3</td>\n",
              "      <td>42</td>\n",
              "    </tr>\n",
              "    <tr>\n",
              "      <th>14</th>\n",
              "      <td>1.1</td>\n",
              "      <td>17</td>\n",
              "    </tr>\n",
              "    <tr>\n",
              "      <th>15</th>\n",
              "      <td>8.9</td>\n",
              "      <td>95</td>\n",
              "    </tr>\n",
              "    <tr>\n",
              "      <th>16</th>\n",
              "      <td>2.5</td>\n",
              "      <td>30</td>\n",
              "    </tr>\n",
              "    <tr>\n",
              "      <th>17</th>\n",
              "      <td>1.9</td>\n",
              "      <td>24</td>\n",
              "    </tr>\n",
              "    <tr>\n",
              "      <th>18</th>\n",
              "      <td>6.1</td>\n",
              "      <td>67</td>\n",
              "    </tr>\n",
              "    <tr>\n",
              "      <th>19</th>\n",
              "      <td>7.4</td>\n",
              "      <td>69</td>\n",
              "    </tr>\n",
              "    <tr>\n",
              "      <th>20</th>\n",
              "      <td>2.7</td>\n",
              "      <td>30</td>\n",
              "    </tr>\n",
              "    <tr>\n",
              "      <th>21</th>\n",
              "      <td>4.8</td>\n",
              "      <td>54</td>\n",
              "    </tr>\n",
              "    <tr>\n",
              "      <th>22</th>\n",
              "      <td>3.8</td>\n",
              "      <td>35</td>\n",
              "    </tr>\n",
              "    <tr>\n",
              "      <th>23</th>\n",
              "      <td>6.9</td>\n",
              "      <td>76</td>\n",
              "    </tr>\n",
              "    <tr>\n",
              "      <th>24</th>\n",
              "      <td>7.8</td>\n",
              "      <td>86</td>\n",
              "    </tr>\n",
              "  </tbody>\n",
              "</table>\n",
              "</div>"
            ],
            "text/plain": [
              "    Hours  Scores\n",
              "0     2.5      21\n",
              "1     5.1      47\n",
              "2     3.2      27\n",
              "3     8.5      75\n",
              "4     3.5      30\n",
              "5     1.5      20\n",
              "6     9.2      88\n",
              "7     5.5      60\n",
              "8     8.3      81\n",
              "9     2.7      25\n",
              "10    7.7      85\n",
              "11    5.9      62\n",
              "12    4.5      41\n",
              "13    3.3      42\n",
              "14    1.1      17\n",
              "15    8.9      95\n",
              "16    2.5      30\n",
              "17    1.9      24\n",
              "18    6.1      67\n",
              "19    7.4      69\n",
              "20    2.7      30\n",
              "21    4.8      54\n",
              "22    3.8      35\n",
              "23    6.9      76\n",
              "24    7.8      86"
            ]
          },
          "metadata": {
            "tags": []
          },
          "execution_count": 4
        }
      ]
    },
    {
      "cell_type": "code",
      "metadata": {
        "colab": {
          "base_uri": "https://localhost:8080/"
        },
        "id": "TiZx15K_46rx",
        "outputId": "3d3cfbc3-087a-444f-d8d4-a9dd752aa241"
      },
      "source": [
        "# Inspecting the data to check the datatypes of the columns\n",
        "df_marks.info()"
      ],
      "execution_count": 5,
      "outputs": [
        {
          "output_type": "stream",
          "text": [
            "<class 'pandas.core.frame.DataFrame'>\n",
            "RangeIndex: 25 entries, 0 to 24\n",
            "Data columns (total 2 columns):\n",
            " #   Column  Non-Null Count  Dtype  \n",
            "---  ------  --------------  -----  \n",
            " 0   Hours   25 non-null     float64\n",
            " 1   Scores  25 non-null     int64  \n",
            "dtypes: float64(1), int64(1)\n",
            "memory usage: 528.0 bytes\n"
          ],
          "name": "stdout"
        }
      ]
    },
    {
      "cell_type": "code",
      "metadata": {
        "colab": {
          "base_uri": "https://localhost:8080/",
          "height": 297
        },
        "id": "prVRBK2S5F1Z",
        "outputId": "6fcbc715-3ff1-46cc-97b5-1edcdf17074f"
      },
      "source": [
        "# Checking the statistical parameters of the data\n",
        "df_marks.describe()"
      ],
      "execution_count": 6,
      "outputs": [
        {
          "output_type": "execute_result",
          "data": {
            "text/html": [
              "<div>\n",
              "<style scoped>\n",
              "    .dataframe tbody tr th:only-of-type {\n",
              "        vertical-align: middle;\n",
              "    }\n",
              "\n",
              "    .dataframe tbody tr th {\n",
              "        vertical-align: top;\n",
              "    }\n",
              "\n",
              "    .dataframe thead th {\n",
              "        text-align: right;\n",
              "    }\n",
              "</style>\n",
              "<table border=\"1\" class=\"dataframe\">\n",
              "  <thead>\n",
              "    <tr style=\"text-align: right;\">\n",
              "      <th></th>\n",
              "      <th>Hours</th>\n",
              "      <th>Scores</th>\n",
              "    </tr>\n",
              "  </thead>\n",
              "  <tbody>\n",
              "    <tr>\n",
              "      <th>count</th>\n",
              "      <td>25.000000</td>\n",
              "      <td>25.000000</td>\n",
              "    </tr>\n",
              "    <tr>\n",
              "      <th>mean</th>\n",
              "      <td>5.012000</td>\n",
              "      <td>51.480000</td>\n",
              "    </tr>\n",
              "    <tr>\n",
              "      <th>std</th>\n",
              "      <td>2.525094</td>\n",
              "      <td>25.286887</td>\n",
              "    </tr>\n",
              "    <tr>\n",
              "      <th>min</th>\n",
              "      <td>1.100000</td>\n",
              "      <td>17.000000</td>\n",
              "    </tr>\n",
              "    <tr>\n",
              "      <th>25%</th>\n",
              "      <td>2.700000</td>\n",
              "      <td>30.000000</td>\n",
              "    </tr>\n",
              "    <tr>\n",
              "      <th>50%</th>\n",
              "      <td>4.800000</td>\n",
              "      <td>47.000000</td>\n",
              "    </tr>\n",
              "    <tr>\n",
              "      <th>75%</th>\n",
              "      <td>7.400000</td>\n",
              "      <td>75.000000</td>\n",
              "    </tr>\n",
              "    <tr>\n",
              "      <th>max</th>\n",
              "      <td>9.200000</td>\n",
              "      <td>95.000000</td>\n",
              "    </tr>\n",
              "  </tbody>\n",
              "</table>\n",
              "</div>"
            ],
            "text/plain": [
              "           Hours     Scores\n",
              "count  25.000000  25.000000\n",
              "mean    5.012000  51.480000\n",
              "std     2.525094  25.286887\n",
              "min     1.100000  17.000000\n",
              "25%     2.700000  30.000000\n",
              "50%     4.800000  47.000000\n",
              "75%     7.400000  75.000000\n",
              "max     9.200000  95.000000"
            ]
          },
          "metadata": {
            "tags": []
          },
          "execution_count": 6
        }
      ]
    },
    {
      "cell_type": "code",
      "metadata": {
        "colab": {
          "base_uri": "https://localhost:8080/"
        },
        "id": "-Nl6Cele6OOI",
        "outputId": "e7eaadd8-38ea-4f31-c8e6-d8985efa1c22"
      },
      "source": [
        "# Checking the shape of the data\n",
        "df_marks.shape"
      ],
      "execution_count": 7,
      "outputs": [
        {
          "output_type": "execute_result",
          "data": {
            "text/plain": [
              "(25, 2)"
            ]
          },
          "metadata": {
            "tags": []
          },
          "execution_count": 7
        }
      ]
    },
    {
      "cell_type": "markdown",
      "metadata": {
        "id": "sVATVFWL5qvQ"
      },
      "source": [
        "### **2. Exploratory Data Analysis**"
      ]
    },
    {
      "cell_type": "code",
      "metadata": {
        "colab": {
          "base_uri": "https://localhost:8080/",
          "height": 460
        },
        "id": "kcQdVtlZ5e8o",
        "outputId": "2d6ac081-7f7f-494c-ecfa-056b90e7ad6f"
      },
      "source": [
        "# Plotting a graph\n",
        "sns.pairplot(df_marks, x_vars='Hours', y_vars='Scores',size=6, aspect=1, kind='scatter')\n",
        "plt.title(\"Hours of study v/s Score\")\n",
        "plt.show()"
      ],
      "execution_count": 8,
      "outputs": [
        {
          "output_type": "display_data",
          "data": {
            "image/png": "[encoded data removed]",
            "text/plain": [
              "<Figure size 432x432 with 1 Axes>"
            ]
          },
          "metadata": {
            "tags": [],
            "needs_background": "light"
          }
        }
      ]
    },
    {
      "cell_type": "markdown",
      "metadata": {
        "id": "ODyK9ALL7CbI"
      },
      "source": [
        "The relation between the the number of hours and scores are linear"
      ]
    },
    {
      "cell_type": "code",
      "metadata": {
        "colab": {
          "base_uri": "https://localhost:8080/",
          "height": 650
        },
        "id": "f1uA8KF-6xTJ",
        "outputId": "98514d56-c113-43e1-b8e7-7edc4775453a"
      },
      "source": [
        "# Checking outliers\n",
        "# Plotting Box Plots\n",
        "plt.figure(figsize =(20,10))\n",
        "plt.suptitle(\"Univariate Analysis of all numeric variables\")\n",
        "plt.subplot(1,2,1)\n",
        "plt.subplots_adjust(left=0.125, bottom=None, right=None, top=None, wspace=1.5, hspace=1.5)\n",
        "sns.boxplot(y=df_marks['Hours'])\n",
        "\n",
        "plt.subplot(1,2,2)\n",
        "plt.subplots_adjust(left=0.125, bottom=None, right=None, top=None, wspace=1.5, hspace=1.5)\n",
        "sns.boxplot(y=df_marks['Scores'])\n",
        "plt.show()"
      ],
      "execution_count": 9,
      "outputs": [
        {
          "output_type": "display_data",
          "data": {
            "image/png": "[encoded data removed]",
            "text/plain": [
              "<Figure size 1440x720 with 2 Axes>"
            ]
          },
          "metadata": {
            "tags": [],
            "needs_background": "light"
          }
        }
      ]
    },
    {
      "cell_type": "markdown",
      "metadata": {
        "id": "yUlp1buE7sIx"
      },
      "source": [
        "There seems to be no outliers in both the columns of data."
      ]
    },
    {
      "cell_type": "markdown",
      "metadata": {
        "id": "CcvKWQ0E9TY6"
      },
      "source": [
        "### **3. Simple Linear Regression**"
      ]
    },
    {
      "cell_type": "code",
      "metadata": {
        "id": "Ysv3HLCD7loh"
      },
      "source": [
        "# Dividing into dependent(y) and independent(X) variables\n",
        "X = df_marks['Hours']\n",
        "y = df_marks['Scores']"
      ],
      "execution_count": 10,
      "outputs": []
    },
    {
      "cell_type": "code",
      "metadata": {
        "id": "XEqM078U9oZ7"
      },
      "source": [
        "# Splitting into train and test set\n",
        "from sklearn.model_selection import train_test_split\n",
        "X_train,X_test,y_train,y_test=train_test_split(X,y, train_size=0.7, test_size=0.3, random_state=100)"
      ],
      "execution_count": 11,
      "outputs": []
    },
    {
      "cell_type": "code",
      "metadata": {
        "colab": {
          "base_uri": "https://localhost:8080/"
        },
        "id": "zTpyv4SS-9SK",
        "outputId": "d21d450a-d9e9-4e32-d582-1d0e2ad4c00a"
      },
      "source": [
        "# Checking X_train\n",
        "X_train.head()"
      ],
      "execution_count": 12,
      "outputs": [
        {
          "output_type": "execute_result",
          "data": {
            "text/plain": [
              "6     9.2\n",
              "12    4.5\n",
              "4     3.5\n",
              "24    7.8\n",
              "0     2.5\n",
              "Name: Hours, dtype: float64"
            ]
          },
          "metadata": {
            "tags": []
          },
          "execution_count": 12
        }
      ]
    },
    {
      "cell_type": "code",
      "metadata": {
        "colab": {
          "base_uri": "https://localhost:8080/"
        },
        "id": "jtOw_z__-_-S",
        "outputId": "2c337f03-e71f-4655-c993-9cc6ea80976c"
      },
      "source": [
        "# Checking y_train\n",
        "y_train.head()"
      ],
      "execution_count": 13,
      "outputs": [
        {
          "output_type": "execute_result",
          "data": {
            "text/plain": [
              "6     88\n",
              "12    41\n",
              "4     30\n",
              "24    86\n",
              "0     21\n",
              "Name: Scores, dtype: int64"
            ]
          },
          "metadata": {
            "tags": []
          },
          "execution_count": 13
        }
      ]
    },
    {
      "cell_type": "code",
      "metadata": {
        "id": "ynl49SS1_Eky"
      },
      "source": [
        "# Building a Linear Model\n",
        "import statsmodels.api as sm"
      ],
      "execution_count": 14,
      "outputs": []
    },
    {
      "cell_type": "code",
      "metadata": {
        "id": "bgNDkj-r_LAF"
      },
      "source": [
        "# add constant to get intercept c\n",
        "X_train_sm = sm.add_constant(X_train)"
      ],
      "execution_count": 15,
      "outputs": []
    },
    {
      "cell_type": "code",
      "metadata": {
        "id": "hMjb0rr6_YK3"
      },
      "source": [
        "# Fit the resgression line using 'OLS'\n",
        "lr = sm.OLS(y_train, X_train_sm).fit()"
      ],
      "execution_count": 16,
      "outputs": []
    },
    {
      "cell_type": "code",
      "metadata": {
        "colab": {
          "base_uri": "https://localhost:8080/"
        },
        "id": "5IVryXon_bDT",
        "outputId": "0138e7fb-89f1-4bae-a108-7ebffe0429e5"
      },
      "source": [
        "# Print the parameters, i.e. the intercept and the slope of the regression line fitted\n",
        "lr.params"
      ],
      "execution_count": 17,
      "outputs": [
        {
          "output_type": "execute_result",
          "data": {
            "text/plain": [
              "const    1.495142\n",
              "Hours    9.871714\n",
              "dtype: float64"
            ]
          },
          "metadata": {
            "tags": []
          },
          "execution_count": 17
        }
      ]
    },
    {
      "cell_type": "code",
      "metadata": {
        "colab": {
          "base_uri": "https://localhost:8080/"
        },
        "id": "dUcAoiOf_d4D",
        "outputId": "63ee4d8f-c95d-46a5-8ba3-68978e66aa03"
      },
      "source": [
        "# Performing a summary operation lists out all the different parameters of the regression line fitted\n",
        "print(lr.summary())"
      ],
      "execution_count": 18,
      "outputs": [
        {
          "output_type": "stream",
          "text": [
            "                            OLS Regression Results                            \n",
            "==============================================================================\n",
            "Dep. Variable:                 Scores   R-squared:                       0.957\n",
            "Model:                            OLS   Adj. R-squared:                  0.954\n",
            "Method:                 Least Squares   F-statistic:                     334.4\n",
            "Date:                Mon, 19 Apr 2021   Prob (F-statistic):           1.15e-11\n",
            "Time:                        09:33:29   Log-Likelihood:                -53.270\n",
            "No. Observations:                  17   AIC:                             110.5\n",
            "Df Residuals:                      15   BIC:                             112.2\n",
            "Df Model:                           1                                         \n",
            "Covariance Type:            nonrobust                                         \n",
            "==============================================================================\n",
            "                 coef    std err          t      P>|t|      [0.025      0.975]\n",
            "------------------------------------------------------------------------------\n",
            "const          1.4951      3.169      0.472      0.644      -5.260       8.250\n",
            "Hours          9.8717      0.540     18.288      0.000       8.721      11.022\n",
            "==============================================================================\n",
            "Omnibus:                        4.576   Durbin-Watson:                   1.929\n",
            "Prob(Omnibus):                  0.101   Jarque-Bera (JB):                1.488\n",
            "Skew:                          -0.198   Prob(JB):                        0.475\n",
            "Kurtosis:                       1.606   Cond. No.                         13.3\n",
            "==============================================================================\n",
            "\n",
            "Warnings:\n",
            "[1] Standard Errors assume that the covariance matrix of the errors is correctly specified.\n"
          ],
          "name": "stdout"
        }
      ]
    },
    {
      "cell_type": "markdown",
      "metadata": {
        "id": "xYv2Kjod_nvK"
      },
      "source": [
        "We can see the R-squared value for this model is 0.957 which is a very good score."
      ]
    },
    {
      "cell_type": "markdown",
      "metadata": {
        "id": "IcB-7CMt_ubZ"
      },
      "source": [
        "Therefore the equation of the best fit line is :"
      ]
    },
    {
      "cell_type": "markdown",
      "metadata": {
        "id": "P5p7x49U_xP4"
      },
      "source": [
        "Scores = 1.5 + 9.87xHours"
      ]
    },
    {
      "cell_type": "code",
      "metadata": {
        "colab": {
          "base_uri": "https://localhost:8080/",
          "height": 280
        },
        "id": "R2XXO0kB_gqP",
        "outputId": "3dc15714-6602-43fe-c84a-9e2b8b50ee5a"
      },
      "source": [
        "# Checking the nature of the training data set\n",
        "plt.scatter(X_train, y_train)\n",
        "plt.plot(X_train, 1.5 + 9.87*X_train, 'r')\n",
        "plt.xlabel(\"X_train_Hours\")\n",
        "plt.ylabel(\"y_train_Scores\")\n",
        "plt.show()"
      ],
      "execution_count": 19,
      "outputs": [
        {
          "output_type": "display_data",
          "data": {
            "image/png": "[encoded data removed]",
            "text/plain": [
              "<Figure size 432x288 with 1 Axes>"
            ]
          },
          "metadata": {
            "tags": [],
            "needs_background": "light"
          }
        }
      ]
    },
    {
      "cell_type": "markdown",
      "metadata": {
        "id": "d1ehfyBFAZj4"
      },
      "source": [
        "### **4. Predictions on Test set**"
      ]
    },
    {
      "cell_type": "code",
      "metadata": {
        "colab": {
          "base_uri": "https://localhost:8080/"
        },
        "id": "gWjinXydAVX_",
        "outputId": "e46b6829-dfba-46ee-e2dc-99d58939334b"
      },
      "source": [
        "# Checking the test set\n",
        "X_test"
      ],
      "execution_count": 20,
      "outputs": [
        {
          "output_type": "execute_result",
          "data": {
            "text/plain": [
              "9     2.7\n",
              "22    3.8\n",
              "13    3.3\n",
              "11    5.9\n",
              "5     1.5\n",
              "19    7.4\n",
              "23    6.9\n",
              "21    4.8\n",
              "Name: Hours, dtype: float64"
            ]
          },
          "metadata": {
            "tags": []
          },
          "execution_count": 20
        }
      ]
    },
    {
      "cell_type": "code",
      "metadata": {
        "id": "tEKJBB2qAfug"
      },
      "source": [
        "# Insert asked value in the test data\n",
        "X_test.loc[8]=9.25"
      ],
      "execution_count": 21,
      "outputs": []
    },
    {
      "cell_type": "code",
      "metadata": {
        "colab": {
          "base_uri": "https://localhost:8080/"
        },
        "id": "Qgz8B2_OAmkn",
        "outputId": "d6161bde-94eb-4195-b5c7-e4a9711d0b44"
      },
      "source": [
        "# Checking the test set\n",
        "X_test"
      ],
      "execution_count": 22,
      "outputs": [
        {
          "output_type": "execute_result",
          "data": {
            "text/plain": [
              "9     2.70\n",
              "22    3.80\n",
              "13    3.30\n",
              "11    5.90\n",
              "5     1.50\n",
              "19    7.40\n",
              "23    6.90\n",
              "21    4.80\n",
              "8     9.25\n",
              "Name: Hours, dtype: float64"
            ]
          },
          "metadata": {
            "tags": []
          },
          "execution_count": 22
        }
      ]
    },
    {
      "cell_type": "code",
      "metadata": {
        "id": "42TyCcO3Aohe"
      },
      "source": [
        "# Adding a constant to X_test\n",
        "X_test_sm = sm.add_constant(X_test)"
      ],
      "execution_count": 23,
      "outputs": []
    },
    {
      "cell_type": "code",
      "metadata": {
        "id": "5HEuZpr9Avym"
      },
      "source": [
        "# Predicting the y values corresponding to X_test_sm\n",
        "y_pred = lr.predict(X_test_sm)"
      ],
      "execution_count": 24,
      "outputs": []
    },
    {
      "cell_type": "code",
      "metadata": {
        "colab": {
          "base_uri": "https://localhost:8080/"
        },
        "id": "OBAEfqVoAyEG",
        "outputId": "6265fcc9-7e14-4788-9dbe-008f8a2d803b"
      },
      "source": [
        "# Observing the predicted values\n",
        "y_pred"
      ],
      "execution_count": 25,
      "outputs": [
        {
          "output_type": "execute_result",
          "data": {
            "text/plain": [
              "9     28.148771\n",
              "22    39.007657\n",
              "13    34.071800\n",
              "11    59.738257\n",
              "5     16.302714\n",
              "19    74.545829\n",
              "23    69.609972\n",
              "21    48.879371\n",
              "8     92.808501\n",
              "dtype: float64"
            ]
          },
          "metadata": {
            "tags": []
          },
          "execution_count": 25
        }
      ]
    },
    {
      "cell_type": "markdown",
      "metadata": {
        "id": "T4bjc3yDBCoS"
      },
      "source": [
        "We have got our answer in the last row of the above dataset that is if a student studies for 9.25 hrs/day he/she scores 92.81%"
      ]
    },
    {
      "cell_type": "markdown",
      "metadata": {
        "id": "dLdu_G2OBHUZ"
      },
      "source": [
        "### **5. Model Evaluation**"
      ]
    },
    {
      "cell_type": "code",
      "metadata": {
        "id": "pDxVnmkWA3jN"
      },
      "source": [
        "# libraries to find the r-squared score for test set\n",
        "from sklearn.metrics import mean_squared_error\n",
        "from sklearn.metrics import r2_score"
      ],
      "execution_count": 26,
      "outputs": []
    },
    {
      "cell_type": "code",
      "metadata": {
        "id": "ggXp--llBLrg"
      },
      "source": [
        "# Dropping the asked value to make the predicted data set of same shape as that of test data set\n",
        "y_pred.drop(8, inplace=True)"
      ],
      "execution_count": 27,
      "outputs": []
    },
    {
      "cell_type": "code",
      "metadata": {
        "colab": {
          "base_uri": "https://localhost:8080/"
        },
        "id": "tqhT5PpNBQj4",
        "outputId": "4c5b7a85-bc15-4b93-99d7-2eaa359435be"
      },
      "source": [
        "# Finding out the value of Model evaluation metric i.e Mean Absolute Error\n",
        "from sklearn import metrics  \n",
        "print('Mean Absolute Error:', \n",
        "      metrics.mean_absolute_error(y_test, y_pred))"
      ],
      "execution_count": 28,
      "outputs": [
        {
          "output_type": "stream",
          "text": [
            "Mean Absolute Error: 4.762517892332275\n"
          ],
          "name": "stdout"
        }
      ]
    },
    {
      "cell_type": "markdown",
      "metadata": {
        "id": "couklyy5BYto"
      },
      "source": [
        "We will use the metric R-squared value for Model Evaluation."
      ]
    },
    {
      "cell_type": "code",
      "metadata": {
        "colab": {
          "base_uri": "https://localhost:8080/"
        },
        "id": "dXpUX-oKBSh8",
        "outputId": "934d6570-c80e-40ca-aeef-fee023e573e0"
      },
      "source": [
        "# Finding out the r-squared score for the test data compared to the predicted data to evaluate the model\n",
        "r_squared = r2_score(y_test, y_pred)\n",
        "r_squared"
      ],
      "execution_count": 29,
      "outputs": [
        {
          "output_type": "execute_result",
          "data": {
            "text/plain": [
              "0.9309458862687437"
            ]
          },
          "metadata": {
            "tags": []
          },
          "execution_count": 29
        }
      ]
    },
    {
      "cell_type": "markdown",
      "metadata": {
        "id": "9bYVqGKrBmnZ"
      },
      "source": [
        "It seems to be a very good model for prediction because both the training and testing data have good R-squared scores."
      ]
    },
    {
      "cell_type": "code",
      "metadata": {
        "colab": {
          "base_uri": "https://localhost:8080/"
        },
        "id": "IX5hsNyIBpq8",
        "outputId": "2ca30cdf-7843-4296-9731-865ea1217078"
      },
      "source": [
        "# Checking X_test data\n",
        "X_test"
      ],
      "execution_count": 30,
      "outputs": [
        {
          "output_type": "execute_result",
          "data": {
            "text/plain": [
              "9     2.70\n",
              "22    3.80\n",
              "13    3.30\n",
              "11    5.90\n",
              "5     1.50\n",
              "19    7.40\n",
              "23    6.90\n",
              "21    4.80\n",
              "8     9.25\n",
              "Name: Hours, dtype: float64"
            ]
          },
          "metadata": {
            "tags": []
          },
          "execution_count": 30
        }
      ]
    },
    {
      "cell_type": "code",
      "metadata": {
        "colab": {
          "base_uri": "https://localhost:8080/"
        },
        "id": "sssfzgHYCKAK",
        "outputId": "0dfb52a7-8b6c-4abf-db7b-836210fb21df"
      },
      "source": [
        "# Checking y_test data\n",
        "y_test"
      ],
      "execution_count": 31,
      "outputs": [
        {
          "output_type": "execute_result",
          "data": {
            "text/plain": [
              "9     25\n",
              "22    35\n",
              "13    42\n",
              "11    62\n",
              "5     20\n",
              "19    69\n",
              "23    76\n",
              "21    54\n",
              "Name: Scores, dtype: int64"
            ]
          },
          "metadata": {
            "tags": []
          },
          "execution_count": 31
        }
      ]
    },
    {
      "cell_type": "code",
      "metadata": {
        "id": "RCLI_y0jCL2n"
      },
      "source": [
        "# Dropping the asked data to equalise the shape with the y_test data\n",
        "X_test.drop(8,inplace=True)"
      ],
      "execution_count": 32,
      "outputs": []
    },
    {
      "cell_type": "code",
      "metadata": {
        "colab": {
          "base_uri": "https://localhost:8080/",
          "height": 280
        },
        "id": "jL_L_8dPCPgU",
        "outputId": "c3646732-3edd-421d-9387-b20c9f9d810d"
      },
      "source": [
        "# Observing the nature of the test data\n",
        "plt.scatter(X_test, y_test)\n",
        "plt.plot(X_test, 1.5 + 9.87*X_test, 'r')\n",
        "plt.xlabel(\"X_test_Hours\") #x label\n",
        "plt.ylabel(\"y_test_Scores\") #y label\n",
        "plt.show()"
      ],
      "execution_count": 33,
      "outputs": [
        {
          "output_type": "display_data",
          "data": {
            "image/png": "[encoded data removed]",
            "text/plain": [
              "<Figure size 432x288 with 1 Axes>"
            ]
          },
          "metadata": {
            "tags": [],
            "needs_background": "light"
          }
        }
      ]
    },
    {
      "cell_type": "markdown",
      "metadata": {
        "id": "DgDu_SmoCcyz"
      },
      "source": [
        "The nature of the test data also seems to be linearly increasing."
      ]
    },
    {
      "cell_type": "markdown",
      "metadata": {
        "id": "mO5C4ctcChdB"
      },
      "source": [
        "Student Score Data Analysis Conclusion:\n",
        "1. The more number of hours a student studies the better he or she scores.¶\n",
        "2. Any student who will study for 9.25 hrs/day will get 92.81% marks"
      ]
    },
    {
      "cell_type": "markdown",
      "metadata": {
        "id": "7t1EFvtsDLIp"
      },
      "source": [
        "**THANK YOU**"
      ]
    }
  ]
}